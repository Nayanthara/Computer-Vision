{
 "cells": [
  {
   "cell_type": "markdown",
   "metadata": {},
   "source": [
    "# CLASSIFICATION : Color 32x32"
   ]
  },
  {
   "cell_type": "code",
   "execution_count": 1,
   "metadata": {},
   "outputs": [],
   "source": [
    "import torch \n",
    "import torch.nn as nn\n",
    "import torchvision\n",
    "import torchvision.transforms as transforms\n",
    "import numpy as np\n",
    "import matplotlib.pyplot as plt\n",
    "\n",
    "\n",
    "# Device configuration\n",
    "device = torch.device('cuda:0' if torch.cuda.is_available() else 'cpu')\n",
    "\n",
    "# Hyper parameters\n",
    "num_epochs = 30\n",
    "num_classes = 10\n",
    "batch_size = 100\n",
    "learning_rate = 0.01"
   ]
  },
  {
   "cell_type": "code",
   "execution_count": 2,
   "metadata": {},
   "outputs": [],
   "source": [
    "\"\"\" Custom datatset loader\n",
    "    based on https://github.com/utkuozbulak/pytorch-custom-dataset-examples\n",
    "\"\"\"\n",
    "import pandas as pd\n",
    "import imageio\n",
    "\n",
    "class SimpleDataset():\n",
    "    def __init__(self, data_path, csv_name, transform = None ):\n",
    "        \"\"\"\n",
    "        Args:\n",
    "            data_path (string): path to the folder where images and csv files are located\n",
    "            csv_name (string): name of the csv lablel file\n",
    "            transform: pytorch transforms for transforms and tensor conversion\n",
    "        \"\"\"\n",
    "        # Set path\n",
    "        self.data_path = data_path\n",
    "        \n",
    "        # Read the csv file\n",
    "        self.data_info = pd.read_csv(data_path + csv_name, header=0)\n",
    "       \n",
    "        # First column contains the image paths\n",
    "        self.image_arr = np.asarray(self.data_info.iloc[:, 0])\n",
    "        \n",
    "        # Second column is the labels\n",
    "        self.label_arr = np.asarray(self.data_info.iloc[:, 1])\n",
    "        # Calculate len\n",
    "        self.data_len = len(self.data_info.index)\n",
    "        \n",
    "    def __getitem__(self, index):\n",
    "        # Get image name from the pandas df\n",
    "        single_image_name = self.image_arr[index]\n",
    "        # Open image\n",
    "        a=single_image_name[:-3] + \"png\"\n",
    "        single_image_name=a\n",
    "        img_as_img = imageio.imread(self.data_path + single_image_name)\n",
    "        # Open segmented mask\n",
    "        a = single_image_name[:2] + \"seg\" + single_image_name[2:]\n",
    "        imseg_name = a[:-3] + \"png\"\n",
    "        imgsg_as_img = imageio.imread(self.data_path + imseg_name)\n",
    "        \n",
    "        \n",
    "        # Get label(class) of the image based on the cropped pandas column\n",
    "        single_image_label = self.label_arr[index]\n",
    "        \n",
    "        return (img_as_img, single_image_label, imgsg_as_img)\n",
    "\n",
    "    def __len__(self):\n",
    "        return self.data_len"
   ]
  },
  {
   "cell_type": "code",
   "execution_count": 3,
   "metadata": {},
   "outputs": [
    {
     "name": "stdout",
     "output_type": "stream",
     "text": [
      "Shape of the input image (5000, 32, 32, 3) (5000, 32, 32)\n",
      "Shape of the input image (5000, 3, 32, 32) (5000, 32, 32) (5000,)\n"
     ]
    }
   ],
   "source": [
    "mydata = SimpleDataset( \"./data2/\", \"labels.csv\")\n",
    "\n",
    "#splitting into images and labels \n",
    "X  = []\n",
    "y  = []\n",
    "Xs = []\n",
    "for i in range(len(mydata)):\n",
    "    X.append(mydata[i][0])\n",
    "    y.append((mydata[i][1]))\n",
    "    Xs.append(mydata[i][2])\n",
    "\n",
    "\n",
    "#converting into numpy arrays to enable easy reshaping and other array operations\n",
    "    \n",
    "X  = np.asarray(X)\n",
    "Xs = np.asarray(Xs)\n",
    "print(\"Shape of the input image\", X.shape, Xs.shape)\n",
    "y= np.asarray(y)\n",
    "\n",
    "X  = np.swapaxes(X,1,3)\n",
    "X  = np.swapaxes(X,2,3)\n",
    "print(\"Shape of the input image\", X.shape, Xs.shape,y.shape)"
   ]
  },
  {
   "cell_type": "code",
   "execution_count": 4,
   "metadata": {},
   "outputs": [
    {
     "name": "stdout",
     "output_type": "stream",
     "text": [
      "(3500, 3, 32, 32) (3500, 32, 32) (3500,)\n",
      "(500, 3, 32, 32) (500, 32, 32) (500,)\n",
      "(1000, 3, 32, 32) (1000, 32, 32) (1000,)\n"
     ]
    }
   ],
   "source": [
    "Xtr=X[:3500,:,:,:]/255\n",
    "Xstr=Xs[:3500,:,:]/255\n",
    "ytr=y[:3500]\n",
    "\n",
    "Xval=X[3500:4000,:,:,:]/255 #need to change validation size for 32x32 & 64x64 images\n",
    "Xsval=Xs[3500:4000,:,:]/255\n",
    "yval=y[3500:4000]\n",
    "\n",
    "Xte=X[-1000:,:,:,:]/255 #need to change test size for 32x32 & 64x64 images\n",
    "Xste=Xs[-1000:,:,:]/255\n",
    "yte=y[-1000:]\n",
    "\n",
    "\n",
    "print(Xtr.shape,Xstr.shape,ytr.shape)\n",
    "print(Xval.shape,Xsval.shape,yval.shape)\n",
    "print(Xte.shape,Xste.shape,yte.shape)"
   ]
  },
  {
   "cell_type": "code",
   "execution_count": 5,
   "metadata": {},
   "outputs": [
    {
     "data": {
      "text/plain": [
       "<matplotlib.image.AxesImage at 0x234dad10240>"
      ]
     },
     "execution_count": 5,
     "metadata": {},
     "output_type": "execute_result"
    },
    {
     "data": {
      "image/png": "[encoded data removed]",
      "text/plain": [
       "<Figure size 432x288 with 1 Axes>"
      ]
     },
     "metadata": {
      "needs_background": "light"
     },
     "output_type": "display_data"
    }
   ],
   "source": [
    "x=np.swapaxes(Xtr,1,3)\n",
    "x=np.swapaxes(x,1,2)\n",
    "plt.title(\"Input image example\")\n",
    "plt.xlabel(\"number:{}\" .format(ytr[0]))\n",
    "plt.imshow(x[0])"
   ]
  },
  {
   "cell_type": "code",
   "execution_count": 6,
   "metadata": {},
   "outputs": [
    {
     "name": "stdout",
     "output_type": "stream",
     "text": [
      "Size of inputs: torch.Size([3500, 3, 32, 32])\n",
      "Size of ground truth: torch.Size([3500, 32, 32])\n",
      "torch.Size([3500])\n"
     ]
    }
   ],
   "source": [
    "import torch.utils.data as data_utils\n",
    "batch_size = 100\n",
    "'''\n",
    "inputs and segs are your data. \n",
    "'''\n",
    "targets=ytr\n",
    "\n",
    "inputs = torch.from_numpy(Xtr).float()\n",
    "targets = torch.from_numpy(targets).long()\n",
    "segs    = torch.from_numpy(Xstr).float()\n",
    "\n",
    "print('Size of inputs: {}'. format(inputs.shape))\n",
    "print('Size of ground truth: {}'. format(segs.shape))\n",
    "print(targets.shape)\n",
    "\n",
    "# Dataloader\n",
    "trainset = data_utils.TensorDataset(inputs,targets)\n",
    "train_loader = torch.utils.data.DataLoader(trainset, batch_size= batch_size, \n",
    "                                          shuffle=True, drop_last=True)"
   ]
  },
  {
   "cell_type": "code",
   "execution_count": 7,
   "metadata": {},
   "outputs": [
    {
     "name": "stdout",
     "output_type": "stream",
     "text": [
      "Size of inputs: torch.Size([500, 3, 32, 32])\n",
      "Size of ground truth: torch.Size([500, 32, 32])\n",
      "torch.Size([500])\n"
     ]
    }
   ],
   "source": [
    "targets=yval\n",
    "inputs = torch.from_numpy(Xval).float()\n",
    "targets = torch.from_numpy(targets).long()\n",
    "segs    = torch.from_numpy(Xsval).float()\n",
    "\n",
    "print('Size of inputs: {}'. format(inputs.shape))\n",
    "print('Size of ground truth: {}'. format(segs.shape))\n",
    "print(targets.shape)\n",
    "\n",
    "# Dataloader\n",
    "valset = data_utils.TensorDataset(inputs, targets)\n",
    "val_loader = torch.utils.data.DataLoader(valset, batch_size= batch_size, \n",
    "                                          shuffle=False, drop_last=True)"
   ]
  },
  {
   "cell_type": "code",
   "execution_count": 8,
   "metadata": {},
   "outputs": [
    {
     "name": "stdout",
     "output_type": "stream",
     "text": [
      "Size of inputs: torch.Size([1000, 3, 32, 32])\n",
      "Size of ground truth: torch.Size([1000, 32, 32])\n",
      "torch.Size([1000])\n"
     ]
    }
   ],
   "source": [
    "targets=yte\n",
    "inputs = torch.from_numpy(Xte).float()\n",
    "targets = torch.from_numpy(targets).long()\n",
    "segs    = torch.from_numpy(Xste).float()\n",
    "\n",
    "print('Size of inputs: {}'. format(inputs.shape))\n",
    "print('Size of ground truth: {}'. format(segs.shape))\n",
    "print(targets.shape)\n",
    "\n",
    "# Dataloader\n",
    "testset = data_utils.TensorDataset(inputs, targets)\n",
    "test_loader = torch.utils.data.DataLoader(testset, batch_size= 1000, \n",
    "                                          shuffle=False, drop_last=True)"
   ]
  },
  {
   "cell_type": "code",
   "execution_count": 9,
   "metadata": {},
   "outputs": [],
   "source": [
    "class ConvNet(nn.Module):\n",
    "    def __init__(self, num_classes=10):\n",
    "        super(ConvNet, self).__init__()\n",
    "        self.layer1 = nn.Sequential(\n",
    "            nn.Conv2d(3, 16, kernel_size=5, stride=1, padding=2),\n",
    "            nn.BatchNorm2d(16),\n",
    "            nn.ReLU(),\n",
    "            nn.MaxPool2d(kernel_size=2, stride=2))\n",
    "        self.layer2 = nn.Sequential(\n",
    "            nn.Conv2d(16, 32, kernel_size=5, stride=1, padding=2),\n",
    "            nn.BatchNorm2d(32),\n",
    "            nn.ReLU(),\n",
    "            nn.MaxPool2d(kernel_size=2, stride=2))\n",
    "        self.fc = nn.Linear(8*8*32, num_classes)\n",
    "        \n",
    "    def forward(self, x):\n",
    "        out = self.layer1(x)\n",
    "        out = self.layer2(out)\n",
    "        out = out.reshape(out.size(0), -1)\n",
    "        out = self.fc(out)\n",
    "        return out\n",
    "\n",
    "model = ConvNet(num_classes).to(device)\n",
    "\n",
    "# Loss and optimizer\n",
    "criterion = nn.CrossEntropyLoss()\n",
    "optimizer = torch.optim.Adam(model.parameters(), lr=learning_rate)"
   ]
  },
  {
   "cell_type": "markdown",
   "metadata": {},
   "source": [
    "# Model Summary"
   ]
  },
  {
   "cell_type": "code",
   "execution_count": 10,
   "metadata": {},
   "outputs": [
    {
     "name": "stdout",
     "output_type": "stream",
     "text": [
      "----------------------------------------------------------------\n",
      "        Layer (type)               Output Shape         Param #\n",
      "================================================================\n",
      "            Conv2d-1           [-1, 16, 32, 32]           1,216\n",
      "       BatchNorm2d-2           [-1, 16, 32, 32]              32\n",
      "              ReLU-3           [-1, 16, 32, 32]               0\n",
      "         MaxPool2d-4           [-1, 16, 16, 16]               0\n",
      "            Conv2d-5           [-1, 32, 16, 16]          12,832\n",
      "       BatchNorm2d-6           [-1, 32, 16, 16]              64\n",
      "              ReLU-7           [-1, 32, 16, 16]               0\n",
      "         MaxPool2d-8             [-1, 32, 8, 8]               0\n",
      "            Linear-9                   [-1, 10]          20,490\n",
      "================================================================\n",
      "Total params: 34,634\n",
      "Trainable params: 34,634\n",
      "Non-trainable params: 0\n",
      "----------------------------------------------------------------\n",
      "Input size (MB): 0.01\n",
      "Forward/backward pass size (MB): 0.61\n",
      "Params size (MB): 0.13\n",
      "Estimated Total Size (MB): 0.75\n",
      "----------------------------------------------------------------\n"
     ]
    }
   ],
   "source": [
    "from torchsummary import summary\n",
    "summary(model, input_size=(3,32,32))"
   ]
  },
  {
   "cell_type": "code",
   "execution_count": 11,
   "metadata": {},
   "outputs": [],
   "source": [
    "# Train the model\n",
    "total_step = len(train_loader)\n",
    "for epoch in range(num_epochs):\n",
    "    for i, (images, labels) in enumerate(train_loader):\n",
    "        images = images.to(device)\n",
    "        labels = labels.to(device)\n",
    "        \n",
    "        # Forward pass\n",
    "        outputs = model(images)\n",
    "        loss = criterion(outputs, labels)\n",
    "        \n",
    "        # Backward and optimize\n",
    "        optimizer.zero_grad()\n",
    "        loss.backward()\n",
    "        optimizer.step()\n",
    "        \n",
    "        if (i+1) % 85 == 0:\n",
    "            print ('Epoch [{}/{}], Step [{}/{}], Loss: {:.4f}' \n",
    "                   .format(epoch+1, num_epochs, i+1, total_step, loss.item()))"
   ]
  },
  {
   "cell_type": "code",
   "execution_count": 12,
   "metadata": {},
   "outputs": [
    {
     "name": "stdout",
     "output_type": "stream",
     "text": [
      "Test Accuracy of the model on the 10000 test images: 30.3 %\n"
     ]
    }
   ],
   "source": [
    "# Test the model\n",
    "model.eval()  # eval mode (batchnorm uses moving mean/variance instead of mini-batch mean/variance)\n",
    "with torch.no_grad():\n",
    "    correct = 0\n",
    "    total = 0\n",
    "    for images, labels in test_loader:\n",
    "        images = images.to(device)\n",
    "        labels = labels.to(device)\n",
    "        outputs = model(images)\n",
    "        _, predicted = torch.max(outputs.data, 1)\n",
    "        total += labels.size(0)\n",
    "        correct += (predicted == labels).sum().item()\n",
    "\n",
    "print('Test Accuracy of the model on the 10000 test images: {} %'.format(100 * correct / total))"
   ]
  },
  {
   "cell_type": "code",
   "execution_count": 13,
   "metadata": {},
   "outputs": [],
   "source": [
    "from sklearn.metrics import confusion_matrix\n",
    "\n",
    "out=outputs.data.cpu().detach().numpy()\n",
    "lab=labels.data.cpu().detach().numpy()\n",
    "\n",
    "_, predicted = torch.max(outputs.data, 1)\n",
    "\n",
    "cfm = confusion_matrix(lab, predicted.cpu().detach().numpy())"
   ]
  },
  {
   "cell_type": "code",
   "execution_count": 14,
   "metadata": {},
   "outputs": [],
   "source": [
    "import itertools\n",
    "def plot_confusion_matrix(cm, classes,\n",
    "                          normalize=False,\n",
    "                          title='Confusion matrix',\n",
    "                          cmap=plt.cm.Blues):\n",
    "    \"\"\"\n",
    "    This function prints and plots the confusion matrix.\n",
    "    Normalization can be applied by setting `normalize=True`.\n",
    "    \"\"\"\n",
    "    if normalize:\n",
    "        cm = cm.astype('float') / cm.sum(axis=1)[:, np.newaxis]\n",
    "        print(\"Normalized confusion matrix\")\n",
    "    else:\n",
    "        print('Confusion matrix, without normalization')\n",
    "\n",
    "    #print(cm)\n",
    "\n",
    "    plt.imshow(cm, interpolation='nearest', cmap=cmap)\n",
    "    plt.title(title)\n",
    "    plt.colorbar()\n",
    "    tick_marks = np.arange(len(classes))\n",
    "    plt.xticks(tick_marks, classes, rotation=45)\n",
    "    plt.yticks(tick_marks, classes)\n",
    "\n",
    "    fmt = '.2f' if normalize else 'd'\n",
    "    thresh = cm.max() / 2.\n",
    "    for i, j in itertools.product(range(cm.shape[0]), range(cm.shape[1])):\n",
    "        plt.text(j, i, format(cm[i, j], fmt),\n",
    "                 horizontalalignment=\"center\",\n",
    "                 color=\"white\" if cm[i, j] > thresh else \"black\")\n",
    "\n",
    "    plt.ylabel('True label')\n",
    "    plt.xlabel('Predicted label')\n",
    "    plt.tight_layout()"
   ]
  },
  {
   "cell_type": "code",
   "execution_count": 15,
   "metadata": {},
   "outputs": [
    {
     "name": "stdout",
     "output_type": "stream",
     "text": [
      "Confusion matrix, without normalization\n"
     ]
    },
    {
     "data": {
      "image/png": "[encoded data removed]",
      "text/plain": [
       "<Figure size 432x288 with 2 Axes>"
      ]
     },
     "metadata": {
      "needs_background": "light"
     },
     "output_type": "display_data"
    }
   ],
   "source": [
    "    plot_confusion_matrix(cfm, classes=range(10), \n",
    "                      title='Confusion matrix for 16x16 Color dataset')"
   ]
  },
  {
   "cell_type": "code",
   "execution_count": 16,
   "metadata": {},
   "outputs": [],
   "source": [
    "# Save the model checkpoint\n",
    "torch.save(model.state_dict(), 'model.ckpt')"
   ]
  },
  {
   "cell_type": "markdown",
   "metadata": {},
   "source": [
    "# Model modification / Observation"
   ]
  },
  {
   "cell_type": "markdown",
   "metadata": {},
   "source": [
    "The sizes of convolution layers were adjusted to fit the size of images in the dataset. Particularly, channel was changed to 3 and the dimensions of the final fully connected layer was changed to 8 * 8 * 32.\n",
    "\n",
    "Different values of hyperparameters learning_rate and epochs were tried. The architecture was changed to add additional convolution blocks (conv + batch norm + activation + maxpool) but it did not improve the performance of the classifier.\n",
    "\n",
    "Despite trying differnt architectures and hyperparameter values, the best performance obtained was around 35%"
   ]
  }
 ],
 "metadata": {
  "kernelspec": {
   "display_name": "Python 3",
   "language": "python",
   "name": "python3"
  },
  "language_info": {
   "codemirror_mode": {
    "name": "ipython",
    "version": 3
   },
   "file_extension": ".py",
   "mimetype": "text/x-python",
   "name": "python",
   "nbconvert_exporter": "python",
   "pygments_lexer": "ipython3",
   "version": "3.7.3"
  }
 },
 "nbformat": 4,
 "nbformat_minor": 2
}
