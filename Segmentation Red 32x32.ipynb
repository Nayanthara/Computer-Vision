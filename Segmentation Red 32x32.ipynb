{
 "cells": [
  {
   "cell_type": "markdown",
   "metadata": {},
   "source": [
    "# SEGMENTATION : Red 32 x 32"
   ]
  },
  {
   "cell_type": "code",
   "execution_count": 1,
   "metadata": {},
   "outputs": [],
   "source": [
    "import numpy as np\n",
    "import torch\n",
    "import torchvision\n",
    "import torchvision.transforms as transforms\n",
    "import torchvision.datasets as datasets\n",
    "from torch.autograd import Variable\n",
    "import matplotlib.pyplot as plt\n",
    "from PIL import Image\n",
    "import os\n",
    "import copy\n",
    "import torch.utils.data as data_utils\n",
    "import requests, zipfile, io\n",
    "import matplotlib.cm as cm\n",
    "from matplotlib.colors import ListedColormap\n",
    "\n",
    "%matplotlib inline"
   ]
  },
  {
   "cell_type": "code",
   "execution_count": 2,
   "metadata": {},
   "outputs": [],
   "source": [
    "\"\"\" Custom datatset loader\n",
    "    based on https://github.com/utkuozbulak/pytorch-custom-dataset-examples\n",
    "\"\"\"\n",
    "import pandas as pd\n",
    "import imageio\n",
    "\n",
    "class SimpleDataset():\n",
    "    def __init__(self, data_path, csv_name, transform = None ):\n",
    "        \"\"\"\n",
    "        Args:\n",
    "            data_path (string): path to the folder where images and csv files are located\n",
    "            csv_name (string): name of the csv lablel file\n",
    "            transform: pytorch transforms for transforms and tensor conversion\n",
    "        \"\"\"\n",
    "        # Set path\n",
    "        self.data_path = data_path\n",
    "        \n",
    "        # Read the csv file\n",
    "        self.data_info = pd.read_csv(data_path + csv_name, header=0)\n",
    "       \n",
    "        # First column contains the image paths\n",
    "        self.image_arr = np.asarray(self.data_info.iloc[:, 0])\n",
    "        \n",
    "        # Second column is the labels\n",
    "        self.label_arr = np.asarray(self.data_info.iloc[:, 1])\n",
    "        # Calculate len\n",
    "        self.data_len = len(self.data_info.index)\n",
    "        \n",
    "    def __getitem__(self, index):\n",
    "        # Get image name from the pandas df\n",
    "        single_image_name = self.image_arr[index]\n",
    "        # Open image\n",
    "        a=single_image_name[:-3] + \"png\"\n",
    "        single_image_name=a\n",
    "        img_as_img = imageio.imread(self.data_path + single_image_name)\n",
    "        # Open segmented mask\n",
    "        a = single_image_name[:2] + \"seg\" + single_image_name[2:]\n",
    "        imseg_name = a[:-3] + \"png\"\n",
    "        imgsg_as_img = imageio.imread(self.data_path + imseg_name)\n",
    "        \n",
    "        \n",
    "        # Get label(class) of the image based on the cropped pandas column\n",
    "        single_image_label = self.label_arr[index]\n",
    "        \n",
    "        return (img_as_img, single_image_label, imgsg_as_img)\n",
    "\n",
    "    def __len__(self):\n",
    "        return self.data_len"
   ]
  },
  {
   "cell_type": "code",
   "execution_count": 3,
   "metadata": {},
   "outputs": [
    {
     "name": "stdout",
     "output_type": "stream",
     "text": [
      "Shape of the input image (5000, 32, 32, 3) (5000, 32, 32)\n",
      "Shape of the input image (5000, 3, 32, 32) (5000, 32, 32) (5000,)\n"
     ]
    }
   ],
   "source": [
    "mydata = SimpleDataset( \"./data2r/\", \"labels.csv\")\n",
    "\n",
    "#splitting into images and labels \n",
    "X  = []\n",
    "y  = []\n",
    "Xs = []\n",
    "for i in range(len(mydata)):\n",
    "    X.append(mydata[i][0])\n",
    "    y.append((mydata[i][1]))\n",
    "    Xs.append(mydata[i][2])\n",
    "\n",
    "\n",
    "#converting into numpy arrays to enable easy reshaping and other array operations\n",
    "    \n",
    "X  = np.asarray(X)\n",
    "Xs = np.asarray(Xs)\n",
    "print(\"Shape of the input image\", X.shape, Xs.shape)\n",
    "y= np.asarray(y)\n",
    "\n",
    "X  = np.swapaxes(X,1,3)\n",
    "X  = np.swapaxes(X,2,3)\n",
    "print(\"Shape of the input image\", X.shape, Xs.shape,y.shape)"
   ]
  },
  {
   "cell_type": "code",
   "execution_count": 4,
   "metadata": {},
   "outputs": [
    {
     "name": "stdout",
     "output_type": "stream",
     "text": [
      "(500, 3, 32, 32) (500, 32, 32) (500,)\n",
      "(500, 3, 32, 32) (500, 32, 32) (1500,)\n",
      "(1000, 3, 32, 32) (1000, 32, 32) (1000,)\n"
     ]
    }
   ],
   "source": [
    "Xtr=X[:500,:,:,:]/255\n",
    "Xstr=Xs[:500,:,:]/255\n",
    "ytr=y[:500]\n",
    "\n",
    "Xval=X[3500:4000,:,:,:]/255 #need to change validation size for 32x32 & 64x64 images\n",
    "Xsval=Xs[3500:4000,:,:]/255\n",
    "yval=y[2500:4000]\n",
    "\n",
    "Xte=X[-1000:,:,:,:]/255 #need to change test size for 32x32 & 64x64 images\n",
    "Xste=Xs[-1000:,:,:]/255\n",
    "yte=y[-1000:]\n",
    "\n",
    "\n",
    "print(Xtr.shape,Xstr.shape,ytr.shape)\n",
    "print(Xval.shape,Xsval.shape,yval.shape)\n",
    "print(Xte.shape,Xste.shape,yte.shape)"
   ]
  },
  {
   "cell_type": "code",
   "execution_count": 5,
   "metadata": {},
   "outputs": [
    {
     "name": "stdout",
     "output_type": "stream",
     "text": [
      "Maximun value of ground truth image: 1.0\n",
      "Minimum value of ground truth image: 0.0\n",
      "Mean value of ground truth image: 0.0379\n"
     ]
    },
    {
     "data": {
      "image/png": "[encoded data removed]",
      "text/plain": [
       "<Figure size 432x288 with 1 Axes>"
      ]
     },
     "metadata": {
      "needs_background": "light"
     },
     "output_type": "display_data"
    },
    {
     "data": {
      "image/png": "[encoded data removed]",
      "text/plain": [
       "<Figure size 432x288 with 1 Axes>"
      ]
     },
     "metadata": {
      "needs_background": "light"
     },
     "output_type": "display_data"
    }
   ],
   "source": [
    "x=np.swapaxes(Xtr,1,3)\n",
    "x=np.swapaxes(x,1,2)\n",
    "plt.title(\"Input image example\")\n",
    "plt.xlabel(\"number:{}\" .format(ytr[0]))\n",
    "plt.imshow(x[0])\n",
    "\n",
    "plt.figure()\n",
    "plt.title(\"Ground truth example\")\n",
    "plt.xlabel(\"number:{}\" .format(ytr[0]))\n",
    "plt.imshow(Xstr[0],cmap='gray')\n",
    "\n",
    "a=np.amax(Xstr)\n",
    "print(\"Maximun value of ground truth image: {}\" .format(a))\n",
    "a=np.amin(Xstr)\n",
    "print(\"Minimum value of ground truth image: {}\" .format(a))\n",
    "a=np.mean(Xstr)\n",
    "print(\"Mean value of ground truth image: {:.4f}\" .format(a))"
   ]
  },
  {
   "cell_type": "code",
   "execution_count": 6,
   "metadata": {},
   "outputs": [
    {
     "name": "stdout",
     "output_type": "stream",
     "text": [
      "Size of inputs: torch.Size([500, 3, 32, 32])\n",
      "Size of ground truth: torch.Size([500, 32, 32])\n",
      "torch.Size([500])\n"
     ]
    }
   ],
   "source": [
    "batch_size = 8\n",
    "'''\n",
    "inputs and segs are your data. \n",
    "'''\n",
    "targets=ytr\n",
    "\n",
    "inputs = torch.from_numpy(Xtr).float()\n",
    "targets = torch.from_numpy(targets).float()\n",
    "segs    = torch.from_numpy(Xstr).float()\n",
    "\n",
    "print('Size of inputs: {}'. format(inputs.shape))\n",
    "print('Size of ground truth: {}'. format(segs.shape))\n",
    "print(targets.shape)\n",
    "\n",
    "# Dataloader\n",
    "trainset = data_utils.TensorDataset(inputs, segs)\n",
    "train_loader = torch.utils.data.DataLoader(trainset, batch_size= batch_size, \n",
    "                                          shuffle=True, drop_last=True)"
   ]
  },
  {
   "cell_type": "code",
   "execution_count": 7,
   "metadata": {},
   "outputs": [
    {
     "name": "stdout",
     "output_type": "stream",
     "text": [
      "Size of inputs: torch.Size([500, 3, 32, 32])\n",
      "Size of ground truth: torch.Size([500, 32, 32])\n",
      "torch.Size([1500])\n"
     ]
    }
   ],
   "source": [
    "targets=yval\n",
    "inputs = torch.from_numpy(Xval).float()\n",
    "targets = torch.from_numpy(targets).float()\n",
    "segs    = torch.from_numpy(Xsval).float()\n",
    "\n",
    "print('Size of inputs: {}'. format(inputs.shape))\n",
    "print('Size of ground truth: {}'. format(segs.shape))\n",
    "print(targets.shape)\n",
    "\n",
    "# Dataloader\n",
    "valset = data_utils.TensorDataset(inputs, segs)\n",
    "val_loader = torch.utils.data.DataLoader(valset, batch_size= batch_size, \n",
    "                                          shuffle=False, drop_last=True)"
   ]
  },
  {
   "cell_type": "code",
   "execution_count": 8,
   "metadata": {},
   "outputs": [
    {
     "name": "stdout",
     "output_type": "stream",
     "text": [
      "Size of inputs: torch.Size([1000, 3, 32, 32])\n",
      "Size of ground truth: torch.Size([1000, 32, 32])\n",
      "torch.Size([1000])\n"
     ]
    }
   ],
   "source": [
    "targets=yte\n",
    "inputs = torch.from_numpy(Xte).float()\n",
    "targets = torch.from_numpy(targets).float()\n",
    "segs    = torch.from_numpy(Xste).float()\n",
    "\n",
    "print('Size of inputs: {}'. format(inputs.shape))\n",
    "print('Size of ground truth: {}'. format(segs.shape))\n",
    "print(targets.shape)\n",
    "\n",
    "# Dataloader\n",
    "testset = data_utils.TensorDataset(inputs, segs)\n",
    "test_loader = torch.utils.data.DataLoader(testset, batch_size= 1000, \n",
    "                                          shuffle=False, drop_last=True)"
   ]
  },
  {
   "cell_type": "code",
   "execution_count": 9,
   "metadata": {},
   "outputs": [],
   "source": [
    "import torch \n",
    "import torch.nn as nn\n",
    "import torchvision\n",
    "import torchvision.transforms as transforms\n",
    "import torch.nn.functional as F\n",
    "\n",
    "device = torch.device('cuda:0' if torch.cuda.is_available() else 'cpu')\n",
    "\n",
    "\"\"\"2D U-net Style\"\"\"\n",
    "class conv_block(nn.Module):\n",
    "    def __init__(self, in_size, out_size, kernel_size=3):\n",
    "        super(conv_block, self).__init__()\n",
    "        \n",
    "        self.conv1 = nn.Conv2d(in_size, out_size, kernel_size= kernel_size, padding=1)\n",
    "        self.bn1 = nn.BatchNorm2d(out_size)\n",
    "        self.activation = F.relu\n",
    "        self.conv2 = nn.Conv2d(out_size, out_size, kernel_size= kernel_size, padding=1)\n",
    "        self.bn2 = nn.BatchNorm2d(out_size)\n",
    "        \n",
    "    def forward(self, x):\n",
    "        out = self.conv1(x)\n",
    "        out = self.bn1(out)\n",
    "        out = self.activation(out)\n",
    "        out = self.conv2(out)\n",
    "        out = self.bn2(out)            \n",
    "        out = self.activation(out)     \n",
    "        return out\n",
    "\n",
    "class up_block(nn.Module):\n",
    "    def __init__(self, in_size, out_size, kernel_size=3):\n",
    "        super(up_block, self).__init__()\n",
    "        \n",
    "        self.conv1 = nn.Conv2d(in_size, out_size, kernel_size= kernel_size, padding=1)\n",
    "        self.bn1 = nn.BatchNorm2d(out_size)\n",
    "        self.activation = F.relu\n",
    "        self.conv2 = nn.Conv2d(out_size, out_size, kernel_size= kernel_size, padding=1)\n",
    "        self.bn2 = nn.BatchNorm2d(out_size)     \n",
    "        \n",
    "    def forward(self, x, skip= None):\n",
    "        #print(\"\")\n",
    "        #print(x.shape)\n",
    "        out = torch.cat([x, skip], 1)\n",
    "        #print(out.shape)\n",
    "        out = self.conv1(out)\n",
    "        out = self.bn1(out)\n",
    "        out = self.activation(out)\n",
    "        out = self.conv2(out)\n",
    "        out = self.bn2(out)            \n",
    "        out = self.activation(out)     \n",
    "        return out   \n",
    "\n",
    "class unet2D(nn.Module):\n",
    "    def __init__(self):\n",
    "        super(unet2D, self).__init__()\n",
    "        self.activation = F.relu\n",
    "        \n",
    "        self.conv_block1 = conv_block(in_size= 3, out_size= 64)\n",
    "        self.conv_block2 = conv_block(in_size= 64, out_size= 128)\n",
    "        self.conv_block3 = conv_block(in_size= 128, out_size= 256)\n",
    "        self.conv_block4 = conv_block(in_size= 256, out_size= 512)\n",
    "        self.conv_block5 = conv_block(in_size= 512, out_size= 1024)\n",
    "        \n",
    "        self.down1 = nn.MaxPool2d(2)\n",
    "        self.down2 = nn.MaxPool2d(2)\n",
    "        self.down3 = nn.MaxPool2d(2)\n",
    "        self.down4 = nn.MaxPool2d(2)\n",
    "\n",
    "        self.up_conv1 = nn.ConvTranspose2d(1024, 512, kernel_size=2, stride=2)\n",
    "        self.up_conv2 = nn.ConvTranspose2d(512,  256, kernel_size=2, stride=2)\n",
    "        self.up_conv3 = nn.ConvTranspose2d(256, 128, kernel_size=2, stride=2)\n",
    "        self.up_conv4 = nn.ConvTranspose2d(128, 64, kernel_size=2, stride=2)\n",
    "        \n",
    "        self.up_block1 = up_block(in_size= 1024, out_size= 512)\n",
    "        self.up_block2 = up_block(in_size= 512, out_size= 256)\n",
    "        self.up_block3 = up_block(in_size= 256, out_size= 128)\n",
    "        self.up_block4 = up_block(in_size= 128, out_size= 64)\n",
    "        \n",
    "        self.final_conv = nn.Conv2d(64, 1, kernel_size= 1, padding=0)\n",
    "    \n",
    "    def forward(self, x):\n",
    "        skipA = self.conv_block1(x)\n",
    "        out = self.down1(skipA)\n",
    "        \n",
    "        skipB = self.conv_block2(out)\n",
    "        out = self.down2(skipB)\n",
    "        \n",
    "        skipC = self.conv_block3(out)\n",
    "        out = self.down3(skipC)\n",
    "        \n",
    "        skipD = self.conv_block4(out)\n",
    "        out = self.down4(skipD)\n",
    "        \n",
    "        out = self.conv_block5(out)\n",
    "        \n",
    "        out = self.up_conv1(out)\n",
    "        out = self.up_block1(out,skip= skipD)\n",
    "        \n",
    "        out = self.up_conv2(out)\n",
    "        out = self.up_block2(out,skip= skipC)        \n",
    "        \n",
    "        out = self.up_conv3(out)\n",
    "        out = self.up_block3(out,skip= skipB)  \n",
    "        \n",
    "        out = self.up_conv4(out)\n",
    "        out = self.up_block4(out,skip= skipA)\n",
    "        \n",
    "        out = self.final_conv(out)\n",
    "        \n",
    "        return F.sigmoid(out)"
   ]
  },
  {
   "cell_type": "code",
   "execution_count": 10,
   "metadata": {},
   "outputs": [],
   "source": [
    "model = unet2D().to(device)\n",
    "\n",
    "# Hyper parameters\n",
    "num_epochs = 5   #can increase this value\n",
    "num_classes = 1\n",
    "learning_rate = 0.0001\n",
    "optimizer = torch.optim.Adam(model.parameters(), lr=learning_rate)\n",
    "criterion = nn.BCELoss()"
   ]
  },
  {
   "cell_type": "markdown",
   "metadata": {},
   "source": [
    "# Model Summary"
   ]
  },
  {
   "cell_type": "code",
   "execution_count": 11,
   "metadata": {},
   "outputs": [
    {
     "name": "stderr",
     "output_type": "stream",
     "text": [
      "C:\\Users\\nayan\\Anaconda3\\lib\\site-packages\\torch\\nn\\functional.py:1351: UserWarning: nn.functional.sigmoid is deprecated. Use torch.sigmoid instead.\n",
      "  warnings.warn(\"nn.functional.sigmoid is deprecated. Use torch.sigmoid instead.\")\n"
     ]
    },
    {
     "name": "stdout",
     "output_type": "stream",
     "text": [
      "----------------------------------------------------------------\n",
      "        Layer (type)               Output Shape         Param #\n",
      "================================================================\n",
      "            Conv2d-1           [-1, 64, 16, 16]           1,792\n",
      "       BatchNorm2d-2           [-1, 64, 16, 16]             128\n",
      "            Conv2d-3           [-1, 64, 16, 16]          36,928\n",
      "       BatchNorm2d-4           [-1, 64, 16, 16]             128\n",
      "        conv_block-5           [-1, 64, 16, 16]               0\n",
      "         MaxPool2d-6             [-1, 64, 8, 8]               0\n",
      "            Conv2d-7            [-1, 128, 8, 8]          73,856\n",
      "       BatchNorm2d-8            [-1, 128, 8, 8]             256\n",
      "            Conv2d-9            [-1, 128, 8, 8]         147,584\n",
      "      BatchNorm2d-10            [-1, 128, 8, 8]             256\n",
      "       conv_block-11            [-1, 128, 8, 8]               0\n",
      "        MaxPool2d-12            [-1, 128, 4, 4]               0\n",
      "           Conv2d-13            [-1, 256, 4, 4]         295,168\n",
      "      BatchNorm2d-14            [-1, 256, 4, 4]             512\n",
      "           Conv2d-15            [-1, 256, 4, 4]         590,080\n",
      "      BatchNorm2d-16            [-1, 256, 4, 4]             512\n",
      "       conv_block-17            [-1, 256, 4, 4]               0\n",
      "        MaxPool2d-18            [-1, 256, 2, 2]               0\n",
      "           Conv2d-19            [-1, 512, 2, 2]       1,180,160\n",
      "      BatchNorm2d-20            [-1, 512, 2, 2]           1,024\n",
      "           Conv2d-21            [-1, 512, 2, 2]       2,359,808\n",
      "      BatchNorm2d-22            [-1, 512, 2, 2]           1,024\n",
      "       conv_block-23            [-1, 512, 2, 2]               0\n",
      "        MaxPool2d-24            [-1, 512, 1, 1]               0\n",
      "           Conv2d-25           [-1, 1024, 1, 1]       4,719,616\n",
      "      BatchNorm2d-26           [-1, 1024, 1, 1]           2,048\n",
      "           Conv2d-27           [-1, 1024, 1, 1]       9,438,208\n",
      "      BatchNorm2d-28           [-1, 1024, 1, 1]           2,048\n",
      "       conv_block-29           [-1, 1024, 1, 1]               0\n",
      "  ConvTranspose2d-30            [-1, 512, 2, 2]       2,097,664\n",
      "           Conv2d-31            [-1, 512, 2, 2]       4,719,104\n",
      "      BatchNorm2d-32            [-1, 512, 2, 2]           1,024\n",
      "           Conv2d-33            [-1, 512, 2, 2]       2,359,808\n",
      "      BatchNorm2d-34            [-1, 512, 2, 2]           1,024\n",
      "         up_block-35            [-1, 512, 2, 2]               0\n",
      "  ConvTranspose2d-36            [-1, 256, 4, 4]         524,544\n",
      "           Conv2d-37            [-1, 256, 4, 4]       1,179,904\n",
      "      BatchNorm2d-38            [-1, 256, 4, 4]             512\n",
      "           Conv2d-39            [-1, 256, 4, 4]         590,080\n",
      "      BatchNorm2d-40            [-1, 256, 4, 4]             512\n",
      "         up_block-41            [-1, 256, 4, 4]               0\n",
      "  ConvTranspose2d-42            [-1, 128, 8, 8]         131,200\n",
      "           Conv2d-43            [-1, 128, 8, 8]         295,040\n",
      "      BatchNorm2d-44            [-1, 128, 8, 8]             256\n",
      "           Conv2d-45            [-1, 128, 8, 8]         147,584\n",
      "      BatchNorm2d-46            [-1, 128, 8, 8]             256\n",
      "         up_block-47            [-1, 128, 8, 8]               0\n",
      "  ConvTranspose2d-48           [-1, 64, 16, 16]          32,832\n",
      "           Conv2d-49           [-1, 64, 16, 16]          73,792\n",
      "      BatchNorm2d-50           [-1, 64, 16, 16]             128\n",
      "           Conv2d-51           [-1, 64, 16, 16]          36,928\n",
      "      BatchNorm2d-52           [-1, 64, 16, 16]             128\n",
      "         up_block-53           [-1, 64, 16, 16]               0\n",
      "           Conv2d-54            [-1, 1, 16, 16]              65\n",
      "================================================================\n",
      "Total params: 31,043,521\n",
      "Trainable params: 31,043,521\n",
      "Non-trainable params: 0\n",
      "----------------------------------------------------------------\n",
      "Input size (MB): 0.00\n",
      "Forward/backward pass size (MB): 2.68\n",
      "Params size (MB): 118.42\n",
      "Estimated Total Size (MB): 121.10\n",
      "----------------------------------------------------------------\n"
     ]
    }
   ],
   "source": [
    "from torchsummary import summary\n",
    "summary(model, input_size=(3,16,16))"
   ]
  },
  {
   "cell_type": "code",
   "execution_count": 12,
   "metadata": {},
   "outputs": [
    {
     "name": "stderr",
     "output_type": "stream",
     "text": [
      "C:\\Users\\nayan\\Anaconda3\\lib\\site-packages\\torch\\nn\\modules\\loss.py:498: UserWarning: Using a target size (torch.Size([32, 1, 16, 16])) that is different to the input size (torch.Size([8, 1, 32, 32])) is deprecated. Please ensure they have the same size.\n",
      "  return F.binary_cross_entropy(input, target, weight=self.weight, reduction=self.reduction)\n"
     ]
    },
    {
     "name": "stdout",
     "output_type": "stream",
     "text": [
      "Epoch [1/5], Step [31/62], TrLoss: 0.5233, TrDice: 0.5766\n",
      "Epoch [1/5], Step [62/62], TrLoss: 0.4638, TrDice: 0.6568\n",
      "Epoch [1/5], Step [31/62], ValLoss: 0.4077, ValDice: 0.8214\n",
      "Epoch [1/5], Step [62/62], ValLoss: 0.4101, ValDice: 0.8773\n",
      "Epoch [2/5], Step [31/62], TrLoss: 0.3837, TrDice: 0.8331\n",
      "Epoch [2/5], Step [62/62], TrLoss: 0.3575, TrDice: 0.7584\n",
      "Epoch [2/5], Step [31/62], ValLoss: 0.3426, ValDice: 0.8649\n",
      "Epoch [2/5], Step [62/62], ValLoss: 0.3334, ValDice: 0.8972\n",
      "Epoch [3/5], Step [31/62], TrLoss: 0.3159, TrDice: 0.9515\n",
      "Epoch [3/5], Step [62/62], TrLoss: 0.2992, TrDice: 0.9388\n",
      "Epoch [3/5], Step [31/62], ValLoss: 0.3097, ValDice: 0.8967\n",
      "Epoch [3/5], Step [62/62], ValLoss: 0.3028, ValDice: 0.9396\n",
      "Epoch [4/5], Step [31/62], TrLoss: 0.2876, TrDice: 0.9672\n",
      "Epoch [4/5], Step [62/62], TrLoss: 0.2741, TrDice: 0.9588\n",
      "Epoch [4/5], Step [31/62], ValLoss: 0.2789, ValDice: 0.9094\n",
      "Epoch [4/5], Step [62/62], ValLoss: 0.2691, ValDice: 0.9524\n",
      "Epoch [5/5], Step [31/62], TrLoss: 0.2542, TrDice: 0.9880\n",
      "Epoch [5/5], Step [62/62], TrLoss: 0.2388, TrDice: 0.9781\n",
      "Epoch [5/5], Step [31/62], ValLoss: 0.2566, ValDice: 0.9412\n",
      "Epoch [5/5], Step [62/62], ValLoss: 0.2431, ValDice: 0.9722\n"
     ]
    }
   ],
   "source": [
    "total_step = len(train_loader)\n",
    "resultstr = []\n",
    "resultsval = []\n",
    "for epoch in range(num_epochs):\n",
    "    for i, (images, labels) in enumerate(train_loader):\n",
    "        model.train()\n",
    "        images = images.to(device)\n",
    "        blabels1 = labels\n",
    "        nlab=blabels1.view(-1,1,16,16)\n",
    "        labels = nlab.to(device)\n",
    "\n",
    "        # Forward pass\n",
    "        outputs = model(images)\n",
    "        loss = criterion(outputs, labels)\n",
    "\n",
    "        #Calculate Dice coefficient\n",
    "        out=outputs.data\n",
    "        out=torch.reshape(out,(-1,16,16))\n",
    "        out1=copy.deepcopy(out)\n",
    "        out1[out1>0.5]=1\n",
    "        out1[out1<=0.5]=0\n",
    "        lab=labels.data\n",
    "        lab=torch.reshape(lab,(-1,16,16))\n",
    "        dice = torch.sum(out1[lab==1])*2.0 / (torch.sum(out1) + torch.sum(lab))\n",
    "        \n",
    "        # Backward and optimize\n",
    "        optimizer.zero_grad()\n",
    "        loss.backward()\n",
    "        optimizer.step()\n",
    "        if (i+1) % 31 == 0:\n",
    "            print ('Epoch [{}/{}], Step [{}/{}], TrLoss: {:.4f}, TrDice: {:.4f}' \n",
    "                   .format(epoch+1,num_epochs,i+1, total_step, loss.data, dice))\n",
    "    resultstr.append([loss.data,dice]) # keep them for further processing\n",
    "\n",
    "    #Do validation\n",
    "    for i, (images, labels) in enumerate(val_loader):\n",
    "        with torch.no_grad():\n",
    "            model.eval()\n",
    "            images = images.to(device)\n",
    "            blabels1 = labels\n",
    "            nlab=blabels1.view(-1,1,16,16)\n",
    "            labels = nlab.to(device)\n",
    "\n",
    "            # Forward pass\n",
    "            outputs = model(images)\n",
    "            loss = criterion(outputs, labels)\n",
    "\n",
    "            #Calcualte Dice coefficient\n",
    "            out=outputs.data\n",
    "            out=torch.reshape(out,(-1,16,16))\n",
    "            out1=copy.deepcopy(out)\n",
    "            out1[out1>0.5]=1\n",
    "            out1[out1<=0.5]=0\n",
    "            lab=labels.data\n",
    "            lab=torch.reshape(lab,(-1,16,16))\n",
    "            dice = torch.sum(out1[lab==1])*2.0 / (torch.sum(out1) + torch.sum(lab))\n",
    "\n",
    "            if (i+1) % 31 == 0:\n",
    "                print ('Epoch [{}/{}], Step [{}/{}], ValLoss: {:.4f}, ValDice: {:.4f}' \n",
    "                       .format(epoch+1,num_epochs,i+1, total_step, loss.data, dice))\n",
    "    resultsval.append([loss.data,dice])"
   ]
  },
  {
   "cell_type": "code",
   "execution_count": 13,
   "metadata": {},
   "outputs": [
    {
     "name": "stderr",
     "output_type": "stream",
     "text": [
      "C:\\Users\\nayan\\Anaconda3\\lib\\site-packages\\torch\\serialization.py:292: UserWarning: Couldn't retrieve source code for container of type unet2D. It won't be checked for correctness upon loading.\n",
      "  \"type \" + obj.__name__ + \". It won't be checked \"\n",
      "C:\\Users\\nayan\\Anaconda3\\lib\\site-packages\\torch\\serialization.py:292: UserWarning: Couldn't retrieve source code for container of type conv_block. It won't be checked for correctness upon loading.\n",
      "  \"type \" + obj.__name__ + \". It won't be checked \"\n",
      "C:\\Users\\nayan\\Anaconda3\\lib\\site-packages\\torch\\serialization.py:292: UserWarning: Couldn't retrieve source code for container of type Conv2d. It won't be checked for correctness upon loading.\n",
      "  \"type \" + obj.__name__ + \". It won't be checked \"\n",
      "C:\\Users\\nayan\\Anaconda3\\lib\\site-packages\\torch\\serialization.py:292: UserWarning: Couldn't retrieve source code for container of type BatchNorm2d. It won't be checked for correctness upon loading.\n",
      "  \"type \" + obj.__name__ + \". It won't be checked \"\n",
      "C:\\Users\\nayan\\Anaconda3\\lib\\site-packages\\torch\\serialization.py:292: UserWarning: Couldn't retrieve source code for container of type MaxPool2d. It won't be checked for correctness upon loading.\n",
      "  \"type \" + obj.__name__ + \". It won't be checked \"\n",
      "C:\\Users\\nayan\\Anaconda3\\lib\\site-packages\\torch\\serialization.py:292: UserWarning: Couldn't retrieve source code for container of type ConvTranspose2d. It won't be checked for correctness upon loading.\n",
      "  \"type \" + obj.__name__ + \". It won't be checked \"\n",
      "C:\\Users\\nayan\\Anaconda3\\lib\\site-packages\\torch\\serialization.py:292: UserWarning: Couldn't retrieve source code for container of type up_block. It won't be checked for correctness upon loading.\n",
      "  \"type \" + obj.__name__ + \". It won't be checked \"\n"
     ]
    }
   ],
   "source": [
    "torch.save(model, 'unet1')"
   ]
  },
  {
   "cell_type": "code",
   "execution_count": 14,
   "metadata": {},
   "outputs": [
    {
     "data": {
      "image/png": "[encoded data removed]",
      "text/plain": [
       "<Figure size 1080x144 with 8 Axes>"
      ]
     },
     "metadata": {},
     "output_type": "display_data"
    },
    {
     "data": {
      "image/png": "[encoded data removed]",
      "text/plain": [
       "<Figure size 1080x144 with 8 Axes>"
      ]
     },
     "metadata": {},
     "output_type": "display_data"
    },
    {
     "data": {
      "image/png": "[encoded data removed]",
      "text/plain": [
       "<Figure size 1080x144 with 8 Axes>"
      ]
     },
     "metadata": {},
     "output_type": "display_data"
    }
   ],
   "source": [
    "img=images.data.cpu().detach().numpy()\n",
    "img=np.swapaxes(img,1,3)\n",
    "img=np.swapaxes(img,1,2)\n",
    "\n",
    "out=outputs.data.cpu().detach().numpy()\n",
    "out=np.reshape(out,(-1,32,32))\n",
    "\n",
    "lab=labels.data.cpu().detach().numpy()\n",
    "lab=np.reshape(lab,(-1,32,32))\n",
    "\n",
    "plt.figure(figsize=(15,2))\n",
    "for i in range(8):\n",
    "    l1_plot = plt.subplot(1, 8, i + 1)\n",
    "    l1_plot.imshow(img[i])\n",
    "    l1_plot.set_xticks(())\n",
    "    l1_plot.set_yticks(())\n",
    "plt.suptitle('Validation image Examples')\n",
    "plt.show()\n",
    "\n",
    "plt.figure(figsize=(15,2))\n",
    "for i in range(8):\n",
    "    l1_plot = plt.subplot(1, 8, i + 1)\n",
    "    l1_plot.imshow(out[i],cmap='gray')\n",
    "    l1_plot.set_xticks(())\n",
    "    l1_plot.set_yticks(())\n",
    "plt.suptitle('Validation image Output')\n",
    "plt.show()\n",
    "\n",
    "out1=copy.deepcopy(out)\n",
    "out1[out1>0.5]=1\n",
    "out1[out1<=0.5]=0\n",
    "\n",
    "plt.figure(figsize=(15,2))\n",
    "for i in range(0,8,1):\n",
    "    p=out1[i]\n",
    "    g=lab[i]\n",
    "    a=[p==1]\n",
    "    b=[g==1]\n",
    "    \n",
    "    c=(np.array(a)*np.array(b))*1\n",
    "    anb=np.logical_xor(a,c)*3\n",
    "    bna=np.logical_xor(b,c)*2\n",
    "    f=c+anb+bna\n",
    "    \n",
    "    brg = cm.get_cmap('brg', 256)\n",
    "    newcolors = brg(np.linspace(0, 1, 256))\n",
    "    black = np.array([0, 0, 0, 1])\n",
    "    green = np.array([0, 1, 0, 1])\n",
    "    blue = np.array([0, 0, 1, 1])\n",
    "    red = np.array([1, 0, 0, 1])\n",
    "    newcolors[0:62, :] = black\n",
    "    newcolors[62:126, :] = red\n",
    "    newcolors[190:, :] = green\n",
    "    newcolors[126:190,:] = blue\n",
    "    newcmp = ListedColormap(newcolors)\n",
    "\n",
    "    l1_plot = plt.subplot(1, 8, i + 1)\n",
    "    l1_plot.imshow(f.reshape(32,32),cmap=newcmp,vmin=0, vmax=3)\n",
    "    l1_plot.set_xticks(())\n",
    "    l1_plot.set_yticks(())\n",
    "    \n",
    "plt.suptitle('Validation image IOU Examples')\n",
    "plt.show()"
   ]
  },
  {
   "cell_type": "code",
   "execution_count": 15,
   "metadata": {},
   "outputs": [
    {
     "data": {
      "image/png": "[encoded data removed]",
      "text/plain": [
       "<Figure size 432x288 with 1 Axes>"
      ]
     },
     "metadata": {
      "needs_background": "light"
     },
     "output_type": "display_data"
    }
   ],
   "source": [
    "resultsval=np.array(resultsval)\n",
    "resultstr=np.array(resultstr)\n",
    "\n",
    "valdice=resultsval[:,1]\n",
    "valloss=resultsval[:,0]\n",
    "trdice=resultstr[:,1]\n",
    "trloss=resultstr[:,0]\n",
    "x=np.arange(1, len(valdice)+1, 1)\n",
    "plt.plot(x,valdice)\n",
    "plt.plot(x,trdice)\n",
    "plt.ylabel('Dice coefficient')\n",
    "plt.xlabel('epoch')\n",
    "plt.legend(['validation', 'train'], loc='lower right')\n",
    "plt.title('Model Dice coefficient')\n",
    "plt.show()"
   ]
  },
  {
   "cell_type": "code",
   "execution_count": 16,
   "metadata": {},
   "outputs": [
    {
     "data": {
      "image/png": "[encoded data removed]",
      "text/plain": [
       "<Figure size 432x288 with 2 Axes>"
      ]
     },
     "metadata": {
      "needs_background": "light"
     },
     "output_type": "display_data"
    }
   ],
   "source": [
    "from matplotlib.ticker import (MultipleLocator)\n",
    "\n",
    "x=np.arange(1, len(valdice)+1, 1)\n",
    "fig, ax1=plt.subplots()\n",
    "\n",
    "color='tab:red'\n",
    "ax1.set_ylabel('loss', color=color,fontsize=13)\n",
    "ax1.plot(x,valloss,color=color)\n",
    "ax1.plot(x,trloss, color=color,linestyle='dashed')\n",
    "ax1.tick_params(axis='y', labelcolor=color)\n",
    "ax1.xaxis.set_major_locator(MultipleLocator(1))\n",
    "plt.xlabel('epoch', fontsize=13)\n",
    "plt.legend(['(solid) validation loss', '(dashed) train loss'], loc='best', handletextpad=0,\n",
    "           handlelength=0, fontsize=13)\n",
    "plt.title('Model loss & dice coefficient')\n",
    "\n",
    "color='tab:blue'\n",
    "ax2=ax1.twinx()\n",
    "ax2.set_ylabel('dice coefficient', color=color, fontsize=13)\n",
    "ax2.plot(x,valdice,color=color)\n",
    "ax2.plot(x,trdice,color=color,linestyle='dashed')\n",
    "ax2.tick_params(axis='y', labelcolor=color)\n",
    "\n",
    "plt.show()"
   ]
  },
  {
   "cell_type": "code",
   "execution_count": 17,
   "metadata": {},
   "outputs": [
    {
     "name": "stderr",
     "output_type": "stream",
     "text": [
      "C:\\Users\\nayan\\Anaconda3\\lib\\site-packages\\torch\\nn\\modules\\loss.py:498: UserWarning: Using a target size (torch.Size([4000, 1, 16, 16])) that is different to the input size (torch.Size([1000, 1, 32, 32])) is deprecated. Please ensure they have the same size.\n",
      "  return F.binary_cross_entropy(input, target, weight=self.weight, reduction=self.reduction)\n"
     ]
    },
    {
     "name": "stdout",
     "output_type": "stream",
     "text": [
      "TestLoss: 0.2472, TestDice: 0.9710\n"
     ]
    }
   ],
   "source": [
    "total_step = len(test_loader)\n",
    "resultste = []\n",
    "dice_sum = 0\n",
    "for i, (images, labels) in enumerate(test_loader):\n",
    "        with torch.no_grad():\n",
    "            model.eval()\n",
    "            images = images.to(device)\n",
    "            blabels1 = labels\n",
    "            nlab=blabels1.view(-1,1,16,16)\n",
    "            labels = nlab.to(device)\n",
    "\n",
    "            # Forward pass\n",
    "            outputs = model(images)\n",
    "            loss = criterion(outputs, labels)\n",
    "\n",
    "            #Calcualte Dice coefficient\n",
    "            out=outputs.data\n",
    "            out=torch.reshape(out,(-1,16,16))\n",
    "            out1=copy.deepcopy(out)\n",
    "            out1[out1>0.5]=1\n",
    "            out1[out1<=0.5]=0\n",
    "            lab=labels.data\n",
    "            lab=torch.reshape(lab,(-1,16,16))\n",
    "            dice = torch.sum(out1[lab==1])*2.0 / (torch.sum(out1) + torch.sum(lab))\n",
    "            print ('TestLoss: {:.4f}, TestDice: {:.4f}'.format(loss.data, dice))\n",
    "resultste.append([loss.data,dice])"
   ]
  },
  {
   "cell_type": "markdown",
   "metadata": {},
   "source": [
    "# Observations"
   ]
  },
  {
   "cell_type": "markdown",
   "metadata": {},
   "source": [
    "The average dice coefiicient was calculated for the entire testing set and was found to be 0.9710"
   ]
  }
 ],
 "metadata": {
  "kernelspec": {
   "display_name": "Python 3",
   "language": "python",
   "name": "python3"
  },
  "language_info": {
   "codemirror_mode": {
    "name": "ipython",
    "version": 3
   },
   "file_extension": ".py",
   "mimetype": "text/x-python",
   "name": "python",
   "nbconvert_exporter": "python",
   "pygments_lexer": "ipython3",
   "version": "3.7.3"
  }
 },
 "nbformat": 4,
 "nbformat_minor": 2
}
